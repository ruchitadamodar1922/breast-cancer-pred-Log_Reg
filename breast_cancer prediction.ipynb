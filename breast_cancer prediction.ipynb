{
 "cells": [
  {
   "cell_type": "code",
   "execution_count": 1,
   "metadata": {},
   "outputs": [],
   "source": [
    "from sklearn import datasets"
   ]
  },
  {
   "cell_type": "code",
   "execution_count": 7,
   "metadata": {},
   "outputs": [],
   "source": [
    "Bdata=datasets.load_breast_cancer()"
   ]
  },
  {
   "cell_type": "code",
   "execution_count": 8,
   "metadata": {},
   "outputs": [],
   "source": [
    "from sklearn.linear_model import LogisticRegression"
   ]
  },
  {
   "cell_type": "code",
   "execution_count": 38,
   "metadata": {},
   "outputs": [
    {
     "data": {
      "text/plain": [
       "{'data': array([[1.799e+01, 1.038e+01, 1.228e+02, ..., 2.654e-01, 4.601e-01,\n",
       "         1.189e-01],\n",
       "        [2.057e+01, 1.777e+01, 1.329e+02, ..., 1.860e-01, 2.750e-01,\n",
       "         8.902e-02],\n",
       "        [1.969e+01, 2.125e+01, 1.300e+02, ..., 2.430e-01, 3.613e-01,\n",
       "         8.758e-02],\n",
       "        ...,\n",
       "        [1.660e+01, 2.808e+01, 1.083e+02, ..., 1.418e-01, 2.218e-01,\n",
       "         7.820e-02],\n",
       "        [2.060e+01, 2.933e+01, 1.401e+02, ..., 2.650e-01, 4.087e-01,\n",
       "         1.240e-01],\n",
       "        [7.760e+00, 2.454e+01, 4.792e+01, ..., 0.000e+00, 2.871e-01,\n",
       "         7.039e-02]]),\n",
       " 'target': array([0, 0, 0, 0, 0, 0, 0, 0, 0, 0, 0, 0, 0, 0, 0, 0, 0, 0, 0, 1, 1, 1,\n",
       "        0, 0, 0, 0, 0, 0, 0, 0, 0, 0, 0, 0, 0, 0, 0, 1, 0, 0, 0, 0, 0, 0,\n",
       "        0, 0, 1, 0, 1, 1, 1, 1, 1, 0, 0, 1, 0, 0, 1, 1, 1, 1, 0, 1, 0, 0,\n",
       "        1, 1, 1, 1, 0, 1, 0, 0, 1, 0, 1, 0, 0, 1, 1, 1, 0, 0, 1, 0, 0, 0,\n",
       "        1, 1, 1, 0, 1, 1, 0, 0, 1, 1, 1, 0, 0, 1, 1, 1, 1, 0, 1, 1, 0, 1,\n",
       "        1, 1, 1, 1, 1, 1, 1, 0, 0, 0, 1, 0, 0, 1, 1, 1, 0, 0, 1, 0, 1, 0,\n",
       "        0, 1, 0, 0, 1, 1, 0, 1, 1, 0, 1, 1, 1, 1, 0, 1, 1, 1, 1, 1, 1, 1,\n",
       "        1, 1, 0, 1, 1, 1, 1, 0, 0, 1, 0, 1, 1, 0, 0, 1, 1, 0, 0, 1, 1, 1,\n",
       "        1, 0, 1, 1, 0, 0, 0, 1, 0, 1, 0, 1, 1, 1, 0, 1, 1, 0, 0, 1, 0, 0,\n",
       "        0, 0, 1, 0, 0, 0, 1, 0, 1, 0, 1, 1, 0, 1, 0, 0, 0, 0, 1, 1, 0, 0,\n",
       "        1, 1, 1, 0, 1, 1, 1, 1, 1, 0, 0, 1, 1, 0, 1, 1, 0, 0, 1, 0, 1, 1,\n",
       "        1, 1, 0, 1, 1, 1, 1, 1, 0, 1, 0, 0, 0, 0, 0, 0, 0, 0, 0, 0, 0, 0,\n",
       "        0, 0, 1, 1, 1, 1, 1, 1, 0, 1, 0, 1, 1, 0, 1, 1, 0, 1, 0, 0, 1, 1,\n",
       "        1, 1, 1, 1, 1, 1, 1, 1, 1, 1, 1, 0, 1, 1, 0, 1, 0, 1, 1, 1, 1, 1,\n",
       "        1, 1, 1, 1, 1, 1, 1, 1, 1, 0, 1, 1, 1, 0, 1, 0, 1, 1, 1, 1, 0, 0,\n",
       "        0, 1, 1, 1, 1, 0, 1, 0, 1, 0, 1, 1, 1, 0, 1, 1, 1, 1, 1, 1, 1, 0,\n",
       "        0, 0, 1, 1, 1, 1, 1, 1, 1, 1, 1, 1, 1, 0, 0, 1, 0, 0, 0, 1, 0, 0,\n",
       "        1, 1, 1, 1, 1, 0, 1, 1, 1, 1, 1, 0, 1, 1, 1, 0, 1, 1, 0, 0, 1, 1,\n",
       "        1, 1, 1, 1, 0, 1, 1, 1, 1, 1, 1, 1, 0, 1, 1, 1, 1, 1, 0, 1, 1, 0,\n",
       "        1, 1, 1, 1, 1, 1, 1, 1, 1, 1, 1, 1, 0, 1, 0, 0, 1, 0, 1, 1, 1, 1,\n",
       "        1, 0, 1, 1, 0, 1, 0, 1, 1, 0, 1, 0, 1, 1, 1, 1, 1, 1, 1, 1, 0, 0,\n",
       "        1, 1, 1, 1, 1, 1, 0, 1, 1, 1, 1, 1, 1, 1, 1, 1, 1, 0, 1, 1, 1, 1,\n",
       "        1, 1, 1, 0, 1, 0, 1, 1, 0, 1, 1, 1, 1, 1, 0, 0, 1, 0, 1, 0, 1, 1,\n",
       "        1, 1, 1, 0, 1, 1, 0, 1, 0, 1, 0, 0, 1, 1, 1, 0, 1, 1, 1, 1, 1, 1,\n",
       "        1, 1, 1, 1, 1, 0, 1, 0, 0, 1, 1, 1, 1, 1, 1, 1, 1, 1, 1, 1, 1, 1,\n",
       "        1, 1, 1, 1, 1, 1, 1, 1, 1, 1, 1, 1, 0, 0, 0, 0, 0, 0, 1]),\n",
       " 'frame': None,\n",
       " 'target_names': array(['malignant', 'benign'], dtype='<U9'),\n",
       " 'DESCR': '.. _breast_cancer_dataset:\\n\\nBreast cancer wisconsin (diagnostic) dataset\\n--------------------------------------------\\n\\n**Data Set Characteristics:**\\n\\n    :Number of Instances: 569\\n\\n    :Number of Attributes: 30 numeric, predictive attributes and the class\\n\\n    :Attribute Information:\\n        - radius (mean of distances from center to points on the perimeter)\\n        - texture (standard deviation of gray-scale values)\\n        - perimeter\\n        - area\\n        - smoothness (local variation in radius lengths)\\n        - compactness (perimeter^2 / area - 1.0)\\n        - concavity (severity of concave portions of the contour)\\n        - concave points (number of concave portions of the contour)\\n        - symmetry\\n        - fractal dimension (\"coastline approximation\" - 1)\\n\\n        The mean, standard error, and \"worst\" or largest (mean of the three\\n        worst/largest values) of these features were computed for each image,\\n        resulting in 30 features.  For instance, field 0 is Mean Radius, field\\n        10 is Radius SE, field 20 is Worst Radius.\\n\\n        - class:\\n                - WDBC-Malignant\\n                - WDBC-Benign\\n\\n    :Summary Statistics:\\n\\n    ===================================== ====== ======\\n                                           Min    Max\\n    ===================================== ====== ======\\n    radius (mean):                        6.981  28.11\\n    texture (mean):                       9.71   39.28\\n    perimeter (mean):                     43.79  188.5\\n    area (mean):                          143.5  2501.0\\n    smoothness (mean):                    0.053  0.163\\n    compactness (mean):                   0.019  0.345\\n    concavity (mean):                     0.0    0.427\\n    concave points (mean):                0.0    0.201\\n    symmetry (mean):                      0.106  0.304\\n    fractal dimension (mean):             0.05   0.097\\n    radius (standard error):              0.112  2.873\\n    texture (standard error):             0.36   4.885\\n    perimeter (standard error):           0.757  21.98\\n    area (standard error):                6.802  542.2\\n    smoothness (standard error):          0.002  0.031\\n    compactness (standard error):         0.002  0.135\\n    concavity (standard error):           0.0    0.396\\n    concave points (standard error):      0.0    0.053\\n    symmetry (standard error):            0.008  0.079\\n    fractal dimension (standard error):   0.001  0.03\\n    radius (worst):                       7.93   36.04\\n    texture (worst):                      12.02  49.54\\n    perimeter (worst):                    50.41  251.2\\n    area (worst):                         185.2  4254.0\\n    smoothness (worst):                   0.071  0.223\\n    compactness (worst):                  0.027  1.058\\n    concavity (worst):                    0.0    1.252\\n    concave points (worst):               0.0    0.291\\n    symmetry (worst):                     0.156  0.664\\n    fractal dimension (worst):            0.055  0.208\\n    ===================================== ====== ======\\n\\n    :Missing Attribute Values: None\\n\\n    :Class Distribution: 212 - Malignant, 357 - Benign\\n\\n    :Creator:  Dr. William H. Wolberg, W. Nick Street, Olvi L. Mangasarian\\n\\n    :Donor: Nick Street\\n\\n    :Date: November, 1995\\n\\nThis is a copy of UCI ML Breast Cancer Wisconsin (Diagnostic) datasets.\\nhttps://goo.gl/U2Uwz2\\n\\nFeatures are computed from a digitized image of a fine needle\\naspirate (FNA) of a breast mass.  They describe\\ncharacteristics of the cell nuclei present in the image.\\n\\nSeparating plane described above was obtained using\\nMultisurface Method-Tree (MSM-T) [K. P. Bennett, \"Decision Tree\\nConstruction Via Linear Programming.\" Proceedings of the 4th\\nMidwest Artificial Intelligence and Cognitive Science Society,\\npp. 97-101, 1992], a classification method which uses linear\\nprogramming to construct a decision tree.  Relevant features\\nwere selected using an exhaustive search in the space of 1-4\\nfeatures and 1-3 separating planes.\\n\\nThe actual linear program used to obtain the separating plane\\nin the 3-dimensional space is that described in:\\n[K. P. Bennett and O. L. Mangasarian: \"Robust Linear\\nProgramming Discrimination of Two Linearly Inseparable Sets\",\\nOptimization Methods and Software 1, 1992, 23-34].\\n\\nThis database is also available through the UW CS ftp server:\\n\\nftp ftp.cs.wisc.edu\\ncd math-prog/cpo-dataset/machine-learn/WDBC/\\n\\n.. topic:: References\\n\\n   - W.N. Street, W.H. Wolberg and O.L. Mangasarian. Nuclear feature extraction \\n     for breast tumor diagnosis. IS&T/SPIE 1993 International Symposium on \\n     Electronic Imaging: Science and Technology, volume 1905, pages 861-870,\\n     San Jose, CA, 1993.\\n   - O.L. Mangasarian, W.N. Street and W.H. Wolberg. Breast cancer diagnosis and \\n     prognosis via linear programming. Operations Research, 43(4), pages 570-577, \\n     July-August 1995.\\n   - W.H. Wolberg, W.N. Street, and O.L. Mangasarian. Machine learning techniques\\n     to diagnose breast cancer from fine-needle aspirates. Cancer Letters 77 (1994) \\n     163-171.',\n",
       " 'feature_names': array(['mean radius', 'mean texture', 'mean perimeter', 'mean area',\n",
       "        'mean smoothness', 'mean compactness', 'mean concavity',\n",
       "        'mean concave points', 'mean symmetry', 'mean fractal dimension',\n",
       "        'radius error', 'texture error', 'perimeter error', 'area error',\n",
       "        'smoothness error', 'compactness error', 'concavity error',\n",
       "        'concave points error', 'symmetry error',\n",
       "        'fractal dimension error', 'worst radius', 'worst texture',\n",
       "        'worst perimeter', 'worst area', 'worst smoothness',\n",
       "        'worst compactness', 'worst concavity', 'worst concave points',\n",
       "        'worst symmetry', 'worst fractal dimension'], dtype='<U23'),\n",
       " 'filename': 'C:\\\\Users\\\\Admin\\\\anaconda3\\\\lib\\\\site-packages\\\\sklearn\\\\datasets\\\\data\\\\breast_cancer.csv'}"
      ]
     },
     "execution_count": 38,
     "metadata": {},
     "output_type": "execute_result"
    }
   ],
   "source": [
    "clf=LogisticRegression(solver='saga',max_iter=10000)\n",
    "X=Bdata.data\n",
    "Y=Bdata.target\n",
    "Bdata"
   ]
  },
  {
   "cell_type": "code",
   "execution_count": 39,
   "metadata": {},
   "outputs": [],
   "source": [
    "from sklearn import model_selection"
   ]
  },
  {
   "cell_type": "code",
   "execution_count": 40,
   "metadata": {},
   "outputs": [],
   "source": [
    "X_train,X_test,Y_train,Y_test=model_selection.train_test_split(X,Y)"
   ]
  },
  {
   "cell_type": "code",
   "execution_count": 41,
   "metadata": {},
   "outputs": [
    {
     "data": {
      "text/plain": [
       "LogisticRegression(max_iter=10000, solver='saga')"
      ]
     },
     "execution_count": 41,
     "metadata": {},
     "output_type": "execute_result"
    }
   ],
   "source": [
    "clf.fit(X_train,Y_train)"
   ]
  },
  {
   "cell_type": "code",
   "execution_count": 42,
   "metadata": {},
   "outputs": [
    {
     "data": {
      "text/plain": [
       "array([0, 0, 1, 0, 0, 0, 1, 0, 1, 1, 1, 0, 0, 1, 1, 0, 0, 0, 1, 1, 0, 1,\n",
       "       1, 1, 1, 1, 1, 1, 0, 1, 1, 1, 1, 1, 1, 0, 1, 0, 1, 1, 0, 1, 1, 1,\n",
       "       0, 0, 1, 1, 1, 1, 1, 1, 0, 1, 1, 1, 1, 1, 1, 0, 1, 1, 1, 1, 1, 0,\n",
       "       1, 1, 0, 1, 0, 0, 1, 1, 1, 0, 1, 1, 1, 0, 1, 1, 1, 1, 1, 1, 0, 0,\n",
       "       0, 1, 1, 1, 1, 1, 0, 1, 1, 1, 1, 1, 0, 1, 0, 0, 1, 0, 1, 1, 1, 1,\n",
       "       1, 1, 0, 0, 1, 1, 0, 1, 0, 0, 1, 1, 0, 1, 1, 0, 1, 1, 1, 1, 1, 1,\n",
       "       0, 0, 1, 0, 1, 1, 1, 0, 1, 0, 1])"
      ]
     },
     "execution_count": 42,
     "metadata": {},
     "output_type": "execute_result"
    }
   ],
   "source": [
    "clf.predict(X_test)"
   ]
  },
  {
   "cell_type": "code",
   "execution_count": 43,
   "metadata": {},
   "outputs": [
    {
     "data": {
      "text/plain": [
       "0.951048951048951"
      ]
     },
     "execution_count": 43,
     "metadata": {},
     "output_type": "execute_result"
    }
   ],
   "source": [
    "clf.score(X_test,Y_test)"
   ]
  },
  {
   "cell_type": "code",
   "execution_count": 44,
   "metadata": {},
   "outputs": [
    {
     "data": {
      "text/plain": [
       "0.9131455399061033"
      ]
     },
     "execution_count": 44,
     "metadata": {},
     "output_type": "execute_result"
    }
   ],
   "source": [
    "clf.score(X_train,Y_train)"
   ]
  },
  {
   "cell_type": "markdown",
   "metadata": {},
   "source": [
    "#On changinf max_iter test score got better than train score"
   ]
  },
  {
   "cell_type": "code",
   "execution_count": 24,
   "metadata": {},
   "outputs": [
    {
     "data": {
      "text/plain": [
       "array([[6.35010547e-04, 9.99364989e-01],\n",
       "       [4.94552235e-03, 9.95054478e-01],\n",
       "       [2.26026150e-01, 7.73973850e-01],\n",
       "       [8.93704037e-01, 1.06295963e-01],\n",
       "       [3.44432999e-03, 9.96555670e-01],\n",
       "       [1.38753734e-02, 9.86124627e-01],\n",
       "       [6.17150953e-04, 9.99382849e-01],\n",
       "       [3.74232136e-03, 9.96257679e-01],\n",
       "       [1.90356241e-03, 9.98096438e-01],\n",
       "       [9.99999618e-01, 3.82224442e-07],\n",
       "       [5.83540848e-01, 4.16459152e-01],\n",
       "       [3.63251337e-03, 9.96367487e-01],\n",
       "       [9.96719108e-01, 3.28089189e-03],\n",
       "       [9.94624586e-01, 5.37541414e-03],\n",
       "       [1.00000000e+00, 2.43770900e-13],\n",
       "       [4.09085477e-01, 5.90914523e-01],\n",
       "       [1.04523525e-02, 9.89547647e-01],\n",
       "       [9.99710909e-01, 2.89091192e-04],\n",
       "       [6.29615744e-03, 9.93703843e-01],\n",
       "       [9.99999843e-01, 1.57234511e-07],\n",
       "       [9.99999997e-01, 2.90371019e-09],\n",
       "       [1.00000000e+00, 1.26125563e-10],\n",
       "       [4.70713657e-03, 9.95292863e-01],\n",
       "       [1.48488027e-02, 9.85151197e-01],\n",
       "       [8.77819588e-01, 1.22180412e-01],\n",
       "       [3.76402611e-01, 6.23597389e-01],\n",
       "       [1.99809182e-02, 9.80019082e-01],\n",
       "       [3.87619982e-04, 9.99612380e-01],\n",
       "       [6.70675038e-02, 9.32932496e-01],\n",
       "       [1.31804155e-02, 9.86819585e-01],\n",
       "       [2.70088607e-03, 9.97299114e-01],\n",
       "       [3.23736791e-04, 9.99676263e-01],\n",
       "       [2.40123734e-02, 9.75987627e-01],\n",
       "       [2.11227549e-03, 9.97887725e-01],\n",
       "       [9.26563788e-03, 9.90734362e-01],\n",
       "       [9.99882699e-01, 1.17301395e-04],\n",
       "       [1.00000000e+00, 1.24712181e-11],\n",
       "       [4.14223993e-03, 9.95857760e-01],\n",
       "       [9.99991094e-01, 8.90606001e-06],\n",
       "       [9.86253005e-01, 1.37469952e-02],\n",
       "       [2.03486364e-03, 9.97965136e-01],\n",
       "       [1.00000000e+00, 3.24221598e-10],\n",
       "       [9.92843120e-01, 7.15688023e-03],\n",
       "       [9.99999999e-01, 7.95483794e-10],\n",
       "       [9.99977158e-01, 2.28424009e-05],\n",
       "       [5.34679560e-03, 9.94653204e-01],\n",
       "       [2.45710311e-03, 9.97542897e-01],\n",
       "       [3.55002998e-02, 9.64499700e-01],\n",
       "       [4.83061615e-04, 9.99516938e-01],\n",
       "       [1.90051911e-03, 9.98099481e-01],\n",
       "       [9.99999994e-01, 6.16092755e-09],\n",
       "       [3.77031065e-04, 9.99622969e-01],\n",
       "       [5.27235653e-03, 9.94727643e-01],\n",
       "       [9.99999998e-01, 1.53484938e-09],\n",
       "       [9.99999995e-01, 4.73609847e-09],\n",
       "       [8.48825145e-04, 9.99151175e-01],\n",
       "       [2.56364586e-03, 9.97436354e-01],\n",
       "       [8.55611404e-03, 9.91443886e-01],\n",
       "       [3.58707583e-02, 9.64129242e-01],\n",
       "       [2.42769274e-01, 7.57230726e-01],\n",
       "       [1.16049400e-02, 9.88395060e-01],\n",
       "       [4.51095310e-03, 9.95489047e-01],\n",
       "       [6.22491592e-03, 9.93775084e-01],\n",
       "       [5.37516645e-02, 9.46248336e-01],\n",
       "       [2.68317965e-02, 9.73168203e-01],\n",
       "       [5.94779077e-02, 9.40522092e-01],\n",
       "       [7.54802926e-03, 9.92451971e-01],\n",
       "       [8.05413076e-02, 9.19458692e-01],\n",
       "       [1.00000000e+00, 1.48811016e-13],\n",
       "       [1.00000000e+00, 9.44396732e-21],\n",
       "       [4.01318408e-03, 9.95986816e-01],\n",
       "       [2.20315273e-02, 9.77968473e-01],\n",
       "       [1.00000000e+00, 1.34678687e-13],\n",
       "       [7.92269680e-02, 9.20773032e-01],\n",
       "       [2.47185455e-02, 9.75281455e-01],\n",
       "       [8.63628980e-02, 9.13637102e-01],\n",
       "       [2.20924357e-02, 9.77907564e-01],\n",
       "       [1.56880313e-02, 9.84311969e-01],\n",
       "       [1.87172760e-02, 9.81282724e-01],\n",
       "       [7.98545158e-04, 9.99201455e-01],\n",
       "       [9.99999232e-01, 7.67509467e-07],\n",
       "       [7.42090619e-01, 2.57909381e-01],\n",
       "       [9.84431392e-01, 1.55686076e-02],\n",
       "       [6.24154321e-03, 9.93758457e-01],\n",
       "       [1.99911240e-03, 9.98000888e-01],\n",
       "       [9.96075996e-01, 3.92400450e-03],\n",
       "       [1.42857303e-03, 9.98571427e-01],\n",
       "       [8.88933894e-04, 9.99111066e-01],\n",
       "       [9.98864196e-01, 1.13580361e-03],\n",
       "       [9.99976023e-01, 2.39765871e-05],\n",
       "       [9.96845357e-03, 9.90031546e-01],\n",
       "       [9.80930264e-01, 1.90697362e-02],\n",
       "       [2.27870073e-01, 7.72129927e-01],\n",
       "       [2.12538622e-02, 9.78746138e-01],\n",
       "       [3.89757744e-04, 9.99610242e-01],\n",
       "       [1.38201337e-02, 9.86179866e-01],\n",
       "       [9.92896559e-01, 7.10344080e-03],\n",
       "       [2.59729751e-03, 9.97402702e-01],\n",
       "       [4.69229496e-02, 9.53077050e-01],\n",
       "       [2.44211312e-03, 9.97557887e-01],\n",
       "       [7.37095641e-03, 9.92629044e-01],\n",
       "       [3.55966426e-03, 9.96440336e-01],\n",
       "       [4.82507269e-03, 9.95174927e-01],\n",
       "       [1.00000000e+00, 1.96626013e-10],\n",
       "       [9.99999413e-01, 5.86721880e-07],\n",
       "       [9.99999974e-01, 2.59235585e-08],\n",
       "       [5.65478986e-02, 9.43452101e-01],\n",
       "       [1.00000000e+00, 3.41248811e-15],\n",
       "       [1.33080194e-02, 9.86691981e-01],\n",
       "       [9.99996689e-01, 3.31058952e-06],\n",
       "       [1.71908119e-01, 8.28091881e-01],\n",
       "       [4.43474172e-01, 5.56525828e-01],\n",
       "       [1.90682769e-04, 9.99809317e-01],\n",
       "       [8.59748114e-05, 9.99914025e-01],\n",
       "       [3.19299547e-02, 9.68070045e-01],\n",
       "       [9.99920852e-01, 7.91475520e-05],\n",
       "       [1.00000000e+00, 3.64062590e-18],\n",
       "       [3.33361979e-04, 9.99666638e-01],\n",
       "       [5.18879611e-03, 9.94811204e-01],\n",
       "       [9.99791647e-01, 2.08353485e-04],\n",
       "       [1.37916567e-01, 8.62083433e-01],\n",
       "       [2.00936047e-03, 9.97990640e-01],\n",
       "       [7.14050188e-04, 9.99285950e-01],\n",
       "       [9.99996731e-01, 3.26874826e-06],\n",
       "       [1.24240874e-02, 9.87575913e-01],\n",
       "       [2.31362828e-03, 9.97686372e-01],\n",
       "       [9.99989424e-01, 1.05764883e-05],\n",
       "       [8.89589734e-01, 1.10410266e-01],\n",
       "       [2.87945816e-01, 7.12054184e-01],\n",
       "       [1.00000000e+00, 1.88659290e-12],\n",
       "       [6.99843157e-01, 3.00156843e-01],\n",
       "       [1.73714186e-03, 9.98262858e-01],\n",
       "       [8.71832808e-02, 9.12816719e-01],\n",
       "       [3.05224189e-03, 9.96947758e-01],\n",
       "       [1.47955118e-03, 9.98520449e-01],\n",
       "       [4.96034300e-01, 5.03965700e-01],\n",
       "       [1.16557971e-02, 9.88344203e-01],\n",
       "       [1.82320877e-02, 9.81767912e-01],\n",
       "       [5.50199942e-03, 9.94498001e-01],\n",
       "       [1.93411982e-02, 9.80658802e-01],\n",
       "       [9.83628813e-01, 1.63711874e-02],\n",
       "       [9.99994874e-01, 5.12607574e-06],\n",
       "       [6.79503019e-03, 9.93204970e-01]])"
      ]
     },
     "execution_count": 24,
     "metadata": {},
     "output_type": "execute_result"
    }
   ],
   "source": [
    "clf.predict_proba(X_test)"
   ]
  },
  {
   "cell_type": "code",
   "execution_count": null,
   "metadata": {},
   "outputs": [],
   "source": []
  }
 ],
 "metadata": {
  "kernelspec": {
   "display_name": "Python 3",
   "language": "python",
   "name": "python3"
  },
  "language_info": {
   "codemirror_mode": {
    "name": "ipython",
    "version": 3
   },
   "file_extension": ".py",
   "mimetype": "text/x-python",
   "name": "python",
   "nbconvert_exporter": "python",
   "pygments_lexer": "ipython3",
   "version": "3.8.5"
  }
 },
 "nbformat": 4,
 "nbformat_minor": 4
}
